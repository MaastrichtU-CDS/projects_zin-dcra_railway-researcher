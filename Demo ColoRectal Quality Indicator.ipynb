{
 "cells": [
  {
   "cell_type": "markdown",
   "metadata": {
    "slideshow": {
     "slide_type": "slide"
    }
   },
   "source": [
    "<h1><center> Colorectal Cancer Quality Indicators using the Personal Health Train </center></h1><h2><center> ~Demonstration~ </center></h2>\n",
    "\n",
    "<h3> Maastricht University, Netherlands <h3>\n"
   ]
  },
  {
   "cell_type": "markdown",
   "metadata": {
    "slideshow": {
     "slide_type": "slide"
    }
   },
   "source": [
    "### Personal Health Train Setup"
   ]
  },
  {
   "cell_type": "markdown",
   "metadata": {
    "slideshow": {
     "slide_type": "fragment"
    }
   },
   "source": [
    "<center><img src='architecture.png'></center>"
   ]
  },
  {
   "cell_type": "markdown",
   "metadata": {
    "slideshow": {
     "slide_type": "slide"
    }
   },
   "source": [
    "### Steps"
   ]
  },
  {
   "cell_type": "markdown",
   "metadata": {
    "slideshow": {
     "slide_type": "fragment"
    }
   },
   "source": [
    "- Researcher builds the train and pushes it to Docker registry\n",
    "    -  SPARQL Query \n",
    "    - Station Algorithm \n",
    "- Researcher Authentication\n",
    "- Create Train and Post tasks to Each Center\n",
    "- Master Algorithm – Aggregated Result\n",
    "\n",
    "https://gitlab.com/UM-CDS/projects/zin-dcra/railway-researcher "
   ]
  },
  {
   "cell_type": "markdown",
   "metadata": {
    "slideshow": {
     "slide_type": "slide"
    }
   },
   "source": [
    "### Station Algorithm "
   ]
  },
  {
   "cell_type": "markdown",
   "metadata": {
    "slideshow": {
     "slide_type": "fragment"
    }
   },
   "source": [
    "https://gitlab.com/UM-CDS/projects/zin-dcra/prototypetrain/-/blob/master/src/stationAlgorithm.py \n",
    "    \n",
    ".......\n",
    "    outData = {\n",
    "        'total_count_colon':total_count_colon,\n",
    "        'total_population_colon':total_population_colon,\n",
    "        'percentage_of_short_waitlist':percentage_of_short_waitlist,\n",
    "        'count_rectum': count_rectum,\n",
    "        'total_population_rectum':total_population_rectum,\n",
    "        'complication_rate':complication_rate,\n",
    "        }\n",
    "\n",
    "    outputStr = json.dumps(outData)\n",
    "    logging.info('done with calculation') \n",
    "    return outputStr\n"
   ]
  },
  {
   "cell_type": "markdown",
   "metadata": {
    "slideshow": {
     "slide_type": "slide"
    }
   },
   "source": [
    "### Researcher Login and Authentication"
   ]
  },
  {
   "cell_type": "code",
   "execution_count": 70,
   "metadata": {
    "slideshow": {
     "slide_type": "fragment"
    }
   },
   "outputs": [
    {
     "name": "stdout",
     "output_type": "stream",
     "text": [
      "Login Successfull\n"
     ]
    }
   ],
   "source": [
    "# User Login to the registry\n",
    "\n",
    "from app.railway_researcher import RailwayResearcher\n",
    "import json\n",
    "import time\n",
    "import html\n",
    "\n",
    "start_time= time.time()\n",
    "\n",
    "keycloakUrl = \"https://dcra-keycloak.railway.medicaldataworks.nl\"\n",
    "keycloakClient = \"ananya\"\n",
    "keycloakToken = \"c3b77319-0ee5-444a-8391-615c1d037ed9\"\n",
    "railwayUrl = \"https://dcra.railway.medicaldataworks.nl\"\n",
    "\n",
    "railway = RailwayResearcher(keycloakUrl, keycloakClient, keycloakToken, railwayUrl)\n",
    "\n",
    "print(\"Login Successfull\")"
   ]
  },
  {
   "cell_type": "markdown",
   "metadata": {
    "slideshow": {
     "slide_type": "slide"
    }
   },
   "source": [
    "### Create and Post Train"
   ]
  },
  {
   "cell_type": "code",
   "execution_count": 71,
   "metadata": {
    "slideshow": {
     "slide_type": "fragment"
    }
   },
   "outputs": [
    {
     "name": "stdout",
     "output_type": "stream",
     "text": [
      "====================Train====================\n",
      "{\"id\":95,\"name\":\"Colo Rectal Quality Indicator\",\"dockerImageUrl\":\"registry.gitlab.com/ananyacn/zin_dcra-runner\",\"ownerId\":\"d57b0c40-e757-460f-a8f2-08531032e640\",\"calculationStatus\":\"REQUESTED\",\"currentIteration\":0,\"clientTaskCount\":3}\n"
     ]
    }
   ],
   "source": [
    "## Create train\n",
    "print(\"====================Train====================\")\n",
    "train = railway.createTrain(\"Colo Rectal Quality Indicator\", \"registry.gitlab.com/ananyacn/zin_dcra-runner\", \"03838bb4-8103-4a98-a9c3-d4848b13b3f6\", 3)"
   ]
  },
  {
   "cell_type": "markdown",
   "metadata": {
    "slideshow": {
     "slide_type": "slide"
    }
   },
   "source": [
    "### SPARQL Query to fetch data"
   ]
  },
  {
   "cell_type": "code",
   "execution_count": 72,
   "metadata": {
    "slideshow": {
     "slide_type": "fragment"
    }
   },
   "outputs": [],
   "source": [
    "# Query to fetch data from FAIR data stations\n",
    "inputData = {\n",
    "    \"query\": \"\"\"\n",
    "        prefix dbo: <http://um-cds/ontologies/databaseontology/>\n",
    "        prefix db: <http://localhost/rdf/ontology/>\n",
    "        prefix SCTID: <http://snomed.info/id/>\n",
    "        PREFIX owl: <http://www.w3.org/2002/07/owl#>\n",
    "        PREFIX rdf: <http://www.w3.org/1999/02/22-rdf-syntax-ns#>\n",
    "        \n",
    "        SELECT ?id ?lokalisatie ?diagnosedatum ?datum_van_chirurgische_therapie ?datum_van_neoadjuvante_therapie ?gecompliceerd_beloop\n",
    "        WHERE {\n",
    "            ?row dbo:has_column [\n",
    "                rdf:type SCTID:116154003;\n",
    "                dbo:has_value ?id;\n",
    "            ];\n",
    "            dbo:has_column [\n",
    "                rdf:type SCTID:371480007;\n",
    "                dbo:has_value ?lokalisatie;\n",
    "            ];\n",
    "            dbo:has_column [\n",
    "                rdf:type SCTID:432213005;\n",
    "                dbo:has_value ?diagnosedatum;\n",
    "            ];\n",
    "            dbo:has_column [\n",
    "                rdf:type SCTID:257556004;\n",
    "                dbo:has_value ?datum_van_chirurgische_therapie;\n",
    "            ];\n",
    "            dbo:has_column [\n",
    "                rdf:type SCTID:373847000;\n",
    "                dbo:has_value ?datum_van_neoadjuvante_therapie;\n",
    "            ];\n",
    "            dbo:has_column [\n",
    "                rdf:type SCTID:263718001;\n",
    "                dbo:has_value ?gecompliceerd_beloop;\n",
    "            ].\n",
    "        }\"\"\"\n",
    "    \n",
    "}"
   ]
  },
  {
   "cell_type": "markdown",
   "metadata": {
    "slideshow": {
     "slide_type": "slide"
    }
   },
   "source": [
    "### Post tasks for the train to each center"
   ]
  },
  {
   "cell_type": "code",
   "execution_count": 73,
   "metadata": {
    "slideshow": {
     "slide_type": "fragment"
    }
   },
   "outputs": [
    {
     "name": "stdout",
     "output_type": "stream",
     "text": [
      "====================Task 1====================\n",
      "{'id': 205, 'creationTimestamp': '2020-09-28T10:04:29.253+0000', 'trainId': 95, 'calculationStatus': 'REQUESTED', 'result': '', 'stationId': 5, 'input': '{\"query\": \"\\\\n        prefix dbo: <http://um-cds/ontologies/databaseontology/>\\\\n        prefix db: <http://localhost/rdf/ontology/>\\\\n        prefix SCTID: <http://snomed.info/id/>\\\\n        PREFIX owl: <http://www.w3.org/2002/07/owl#>\\\\n        PREFIX rdf: <http://www.w3.org/1999/02/22-rdf-syntax-ns#>\\\\n        \\\\n        SELECT ?id ?lokalisatie ?diagnosedatum ?datum_van_chirurgische_therapie ?datum_van_neoadjuvante_therapie ?gecompliceerd_beloop\\\\n        WHERE {\\\\n            ?row dbo:has_column [\\\\n                rdf:type SCTID:116154003;\\\\n                dbo:has_value ?id;\\\\n            ];\\\\n            dbo:has_column [\\\\n                rdf:type SCTID:371480007;\\\\n                dbo:has_value ?lokalisatie;\\\\n            ];\\\\n            dbo:has_column [\\\\n                rdf:type SCTID:432213005;\\\\n                dbo:has_value ?diagnosedatum;\\\\n            ];\\\\n            dbo:has_column [\\\\n                rdf:type SCTID:257556004;\\\\n                dbo:has_value ?datum_van_chirurgische_therapie;\\\\n            ];\\\\n            dbo:has_column [\\\\n                rdf:type SCTID:373847000;\\\\n                dbo:has_value ?datum_van_neoadjuvante_therapie;\\\\n            ];\\\\n            dbo:has_column [\\\\n                rdf:type SCTID:263718001;\\\\n                dbo:has_value ?gecompliceerd_beloop;\\\\n            ].\\\\n        }\"}', 'master': False, 'iteration': 0, 'error': None, 'logLocation': None}\n",
      "\n",
      " ====================Task 3====================\n",
      "{'id': 206, 'creationTimestamp': '2020-09-28T10:04:29.336+0000', 'trainId': 95, 'calculationStatus': 'REQUESTED', 'result': '', 'stationId': 6, 'input': '{\"query\": \"\\\\n        prefix dbo: <http://um-cds/ontologies/databaseontology/>\\\\n        prefix db: <http://localhost/rdf/ontology/>\\\\n        prefix SCTID: <http://snomed.info/id/>\\\\n        PREFIX owl: <http://www.w3.org/2002/07/owl#>\\\\n        PREFIX rdf: <http://www.w3.org/1999/02/22-rdf-syntax-ns#>\\\\n        \\\\n        SELECT ?id ?lokalisatie ?diagnosedatum ?datum_van_chirurgische_therapie ?datum_van_neoadjuvante_therapie ?gecompliceerd_beloop\\\\n        WHERE {\\\\n            ?row dbo:has_column [\\\\n                rdf:type SCTID:116154003;\\\\n                dbo:has_value ?id;\\\\n            ];\\\\n            dbo:has_column [\\\\n                rdf:type SCTID:371480007;\\\\n                dbo:has_value ?lokalisatie;\\\\n            ];\\\\n            dbo:has_column [\\\\n                rdf:type SCTID:432213005;\\\\n                dbo:has_value ?diagnosedatum;\\\\n            ];\\\\n            dbo:has_column [\\\\n                rdf:type SCTID:257556004;\\\\n                dbo:has_value ?datum_van_chirurgische_therapie;\\\\n            ];\\\\n            dbo:has_column [\\\\n                rdf:type SCTID:373847000;\\\\n                dbo:has_value ?datum_van_neoadjuvante_therapie;\\\\n            ];\\\\n            dbo:has_column [\\\\n                rdf:type SCTID:263718001;\\\\n                dbo:has_value ?gecompliceerd_beloop;\\\\n            ].\\\\n        }\"}', 'master': False, 'iteration': 0, 'error': None, 'logLocation': None}\n"
     ]
    }
   ],
   "source": [
    "## Post Tasks\n",
    "time_task = time.time()\n",
    "\n",
    "task1 = railway.createTask(train, \"REQUESTED\", \"\", \"maastro\", 0, 0, False, json.dumps(inputData))\n",
    "print(\"====================Task 1====================\")\n",
    "print(task1)\n",
    "\n",
    "\n",
    "task2 = railway.createTask(train, \"REQUESTED\", \"\", \"CDS\", 0, 0, False, json.dumps(inputData))\n",
    "print(\"\\n ====================Task 3====================\")\n",
    "print(task2)"
   ]
  },
  {
   "cell_type": "markdown",
   "metadata": {
    "slideshow": {
     "slide_type": "slide"
    }
   },
   "source": [
    "### Retreieve Results from the server"
   ]
  },
  {
   "cell_type": "code",
   "execution_count": 74,
   "metadata": {
    "slideshow": {
     "slide_type": "fragment"
    }
   },
   "outputs": [
    {
     "name": "stdout",
     "output_type": "stream",
     "text": [
      "====================MasterResult====================\n",
      "{'id': 206, 'creationTimestamp': '2020-09-28T10:04:29.336+0000', 'trainId': 95, 'calculationStatus': 'COMPLETED', 'result': '{\"total_count_colon\": 7, \"total_population_colon\": 10, \"percentage_of_short_waitlist\": 0.7, \"count_rectum\": 4, \"total_population_rectum\": 7, \"complication_rate\": 0.5714285714285714}', 'stationId': 6, 'input': '{\"query\": \"\\\\n        prefix dbo: <http://um-cds/ontologies/databaseontology/>\\\\n        prefix db: <http://localhost/rdf/ontology/>\\\\n        prefix SCTID: <http://snomed.info/id/>\\\\n        PREFIX owl: <http://www.w3.org/2002/07/owl#>\\\\n        PREFIX rdf: <http://www.w3.org/1999/02/22-rdf-syntax-ns#>\\\\n        \\\\n        SELECT ?id ?lokalisatie ?diagnosedatum ?datum_van_chirurgische_therapie ?datum_van_neoadjuvante_therapie ?gecompliceerd_beloop\\\\n        WHERE {\\\\n            ?row dbo:has_column [\\\\n                rdf:type SCTID:116154003;\\\\n                dbo:has_value ?id;\\\\n            ];\\\\n            dbo:has_column [\\\\n                rdf:type SCTID:371480007;\\\\n                dbo:has_value ?lokalisatie;\\\\n            ];\\\\n            dbo:has_column [\\\\n                rdf:type SCTID:432213005;\\\\n                dbo:has_value ?diagnosedatum;\\\\n            ];\\\\n            dbo:has_column [\\\\n                rdf:type SCTID:257556004;\\\\n                dbo:has_value ?datum_van_chirurgische_therapie;\\\\n            ];\\\\n            dbo:has_column [\\\\n                rdf:type SCTID:373847000;\\\\n                dbo:has_value ?datum_van_neoadjuvante_therapie;\\\\n            ];\\\\n            dbo:has_column [\\\\n                rdf:type SCTID:263718001;\\\\n                dbo:has_value ?gecompliceerd_beloop;\\\\n            ].\\\\n        }\"}', 'master': False, 'iteration': 0, 'error': None, 'logLocation': '/var/data/dcra_zin/station_cds/./6034b802f1d92913c3fa0d6924f41d9941aa537f1b41b3f1ccb43fc11d17764c/train.log'}\n",
      "#####################################################\n",
      "====================MasterResult====================\n",
      "{'id': 205, 'creationTimestamp': '2020-09-28T10:04:29.253+0000', 'trainId': 95, 'calculationStatus': 'COMPLETED', 'result': '{\"total_count_colon\": 856, \"total_population_colon\": 428, \"percentage_of_short_waitlist\": 2.0, \"count_rectum\": 1743, \"total_population_rectum\": 2880, \"complication_rate\": 0.6052083333333333}', 'stationId': 5, 'input': '{\"query\": \"\\\\n        prefix dbo: <http://um-cds/ontologies/databaseontology/>\\\\n        prefix db: <http://localhost/rdf/ontology/>\\\\n        prefix SCTID: <http://snomed.info/id/>\\\\n        PREFIX owl: <http://www.w3.org/2002/07/owl#>\\\\n        PREFIX rdf: <http://www.w3.org/1999/02/22-rdf-syntax-ns#>\\\\n        \\\\n        SELECT ?id ?lokalisatie ?diagnosedatum ?datum_van_chirurgische_therapie ?datum_van_neoadjuvante_therapie ?gecompliceerd_beloop\\\\n        WHERE {\\\\n            ?row dbo:has_column [\\\\n                rdf:type SCTID:116154003;\\\\n                dbo:has_value ?id;\\\\n            ];\\\\n            dbo:has_column [\\\\n                rdf:type SCTID:371480007;\\\\n                dbo:has_value ?lokalisatie;\\\\n            ];\\\\n            dbo:has_column [\\\\n                rdf:type SCTID:432213005;\\\\n                dbo:has_value ?diagnosedatum;\\\\n            ];\\\\n            dbo:has_column [\\\\n                rdf:type SCTID:257556004;\\\\n                dbo:has_value ?datum_van_chirurgische_therapie;\\\\n            ];\\\\n            dbo:has_column [\\\\n                rdf:type SCTID:373847000;\\\\n                dbo:has_value ?datum_van_neoadjuvante_therapie;\\\\n            ];\\\\n            dbo:has_column [\\\\n                rdf:type SCTID:263718001;\\\\n                dbo:has_value ?gecompliceerd_beloop;\\\\n            ].\\\\n        }\"}', 'master': False, 'iteration': 0, 'error': None, 'logLocation': '/var/data/dcra_zin/software/./4b8c8eb52f5c0c6f1c1418ad960d8f17ac79f283d77ba8f932f3a836652cb155/train.log'}\n",
      "#####################################################\n"
     ]
    }
   ],
   "source": [
    "# Get Results \n",
    "\n",
    "taskResult2 = railway.getTaskResult(task2, waitCompleted=True)\n",
    "print(\"====================MasterResult====================\")\n",
    "print(taskResult2)\n",
    "print('#####################################################')\n",
    "time_center2 = time.time() - time_task\n",
    "\n",
    "taskResult1 = railway.getTaskResult(task1, waitCompleted=True)\n",
    "print(\"====================MasterResult====================\")\n",
    "print(taskResult1)\n",
    "print('#####################################################')\n",
    "\n",
    "time_center1 = time.time() - time_task\n",
    "time_to_task = time.time() - time_task"
   ]
  },
  {
   "cell_type": "markdown",
   "metadata": {
    "slideshow": {
     "slide_type": "slide"
    }
   },
   "source": [
    "### MASTER ALGORITHM "
   ]
  },
  {
   "cell_type": "code",
   "execution_count": 75,
   "metadata": {
    "scrolled": true,
    "slideshow": {
     "slide_type": "fragment"
    }
   },
   "outputs": [],
   "source": [
    "# Master Algorithm\n",
    "from matplotlib import pyplot\n",
    "\n",
    "#Serialize Results\n",
    "result2 = taskResult2['result']\n",
    "res2 = json.loads(result2)\n",
    "\n",
    "result1 = taskResult1['result']\n",
    "res1 = json.loads(result1)\n",
    "\n",
    "\n",
    "# indicator 2b\n",
    "percentage1 = res1['percentage_of_short_waitlist']\n",
    "percentage2 = res2['percentage_of_short_waitlist']\n",
    "mean = (percentage1+percentage2)/2\n",
    "\n",
    "y1 = [percentage1,percentage2]\n",
    "x1 = [res1['total_population_colon'],res2['total_population_colon']]\n",
    "\n",
    "\n",
    "# indicator 8\n",
    "baseline_complication_rate = (res1['complication_rate']+res2['complication_rate'])/2\n",
    "\n",
    "node1_complication_rate = res1['complication_rate']/baseline_complication_rate\n",
    "node2_complication_rate = res2['complication_rate']/baseline_complication_rate\n",
    "\n",
    "node1_expected_complication = res1['total_population_rectum']*baseline_complication_rate\n",
    "node2_expected_complication =res2['total_population_rectum']*baseline_complication_rate\n",
    "\n",
    "y = [node1_complication_rate,node2_complication_rate]\n",
    "x = [node1_expected_complication,node2_expected_complication]"
   ]
  },
  {
   "cell_type": "markdown",
   "metadata": {
    "slideshow": {
     "slide_type": "slide"
    }
   },
   "source": [
    "### Indicator 2b "
   ]
  },
  {
   "cell_type": "code",
   "execution_count": 76,
   "metadata": {
    "slideshow": {
     "slide_type": "fragment"
    }
   },
   "outputs": [
    {
     "data": {
      "image/png": "[encoded data removed]",
      "text/plain": [
       "<Figure size 432x288 with 1 Axes>"
      ]
     },
     "metadata": {
      "needs_background": "light"
     },
     "output_type": "display_data"
    }
   ],
   "source": [
    "fig1 = pyplot.figure()\n",
    "ax = fig1.add_subplot(111)\n",
    "ax.set_ylim(0,3)\n",
    "ax.set_xlim(-30,500)\n",
    "pyplot.xlabel('Number of patients')\n",
    "pyplot.ylabel('Percentage')\n",
    "pyplot.axhline(y=mean, color='g', linestyle='-')\n",
    "pyplot.plot(x1, y1, 'o', color='red')\n",
    "pyplot.savefig('Indicator2b.png')"
   ]
  },
  {
   "cell_type": "markdown",
   "metadata": {
    "slideshow": {
     "slide_type": "slide"
    }
   },
   "source": [
    "### Indicator 8"
   ]
  },
  {
   "cell_type": "code",
   "execution_count": 82,
   "metadata": {
    "slideshow": {
     "slide_type": "fragment"
    }
   },
   "outputs": [
    {
     "data": {
      "image/png": "[encoded data removed]",
      "text/plain": [
       "<Figure size 432x288 with 1 Axes>"
      ]
     },
     "metadata": {
      "needs_background": "light"
     },
     "output_type": "display_data"
    }
   ],
   "source": [
    "\n",
    "fig2 = pyplot.figure()\n",
    "ax2 = fig2.add_subplot(111)\n",
    "ax2.set_ylim(0.8,1.5)\n",
    "ax2.set_xlim(-100,1800)\n",
    "pyplot.xlabel('aantal verwacht events')\n",
    "pyplot.ylabel('geobserveer/verwacht')\n",
    "pyplot.axhline(y=1, color='b', linestyle='-')\n",
    "pyplot.plot(x, y, 'o', color='red')\n",
    "\n",
    "end_time = time.time()"
   ]
  },
  {
   "cell_type": "markdown",
   "metadata": {
    "slideshow": {
     "slide_type": "slide"
    }
   },
   "source": [
    "### Elapsed Time "
   ]
  },
  {
   "cell_type": "code",
   "execution_count": 80,
   "metadata": {
    "slideshow": {
     "slide_type": "fragment"
    }
   },
   "outputs": [
    {
     "name": "stdout",
     "output_type": "stream",
     "text": [
      "Total time                --------  274 seconds\n",
      "Time for distributed task --------  184 seconds\n",
      "                 Center 1 --------  184 seconds\n",
      "                 Center 2 --------  21 seconds\n"
     ]
    }
   ],
   "source": [
    "\n",
    "total_elapsed_time = end_time - start_time\n",
    "\n",
    "print(\"Total time                --------  %d seconds\" % int(round(total_elapsed_time)))\n",
    "print(\"Time for distributed task --------  %d seconds\" % int(round(time_to_task)))\n",
    "print(\"                 Center 1 --------  %d seconds\" % int(round(time_center1)))\n",
    "print(\"                 Center 2 --------  %d seconds\" % int(round(time_center2)))"
   ]
  },
  {
   "cell_type": "markdown",
   "metadata": {
    "slideshow": {
     "slide_type": "slide"
    }
   },
   "source": [
    "# <center> Thank You </center>"
   ]
  }
 ],
 "metadata": {
  "celltoolbar": "Slideshow",
  "kernelspec": {
   "display_name": "Python 3",
   "language": "python",
   "name": "python3"
  },
  "language_info": {
   "codemirror_mode": {
    "name": "ipython",
    "version": 3
   },
   "file_extension": ".py",
   "mimetype": "text/x-python",
   "name": "python",
   "nbconvert_exporter": "python",
   "pygments_lexer": "ipython3",
   "version": "3.7.4"
  }
 },
 "nbformat": 4,
 "nbformat_minor": 4
}
