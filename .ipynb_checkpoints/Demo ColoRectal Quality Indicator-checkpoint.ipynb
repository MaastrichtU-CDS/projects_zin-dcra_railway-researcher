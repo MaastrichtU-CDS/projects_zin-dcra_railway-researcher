{
 "cells": [
  {
   "cell_type": "markdown",
   "metadata": {},
   "source": [
    "# Colo-Rectal Quality Indicator Calucation From Distributed Registries"
   ]
  },
  {
   "cell_type": "code",
   "execution_count": 1,
   "metadata": {},
   "outputs": [
    {
     "name": "stdout",
     "output_type": "stream",
     "text": [
      "{\"id\":64,\"name\":\"Colo Rectal Quality Indicator\",\"dockerImageUrl\":\"registry.gitlab.com/ananyacn/zin_dcra-runner\",\"ownerId\":\"d57b0c40-e757-460f-a8f2-08531032e640\",\"calculationStatus\":\"REQUESTED\",\"currentIteration\":0,\"clientTaskCount\":3}\n",
      "====================Train====================\n",
      "{'id': 64, 'name': 'Colo Rectal Quality Indicator', 'dockerImageUrl': 'registry.gitlab.com/ananyacn/zin_dcra-runner', 'ownerId': 'd57b0c40-e757-460f-a8f2-08531032e640', 'calculationStatus': 'REQUESTED', 'currentIteration': 0, 'clientTaskCount': 3}\n"
     ]
    }
   ],
   "source": [
    "# User Login to the registry\n",
    "\n",
    "from app.railway_researcher import RailwayResearcher\n",
    "import json\n",
    "import time\n",
    "import html\n",
    "\n",
    "keycloakUrl = \"https://dcra-keycloak.railway.medicaldataworks.nl\"\n",
    "keycloakClient = \"ananya\"\n",
    "keycloakToken = \"c3b77319-0ee5-444a-8391-615c1d037ed9\"\n",
    "railwayUrl = \"https://dcra.railway.medicaldataworks.nl\"\n",
    "\n",
    "railway = RailwayResearcher(keycloakUrl, keycloakClient, keycloakToken, railwayUrl)\n",
    "\n",
    "## Create train\n",
    "train = railway.createTrain(\"Colo Rectal Quality Indicator\", \"registry.gitlab.com/ananyacn/zin_dcra-runner\", \"03838bb4-8103-4a98-a9c3-d4848b13b3f6\", 3)\n",
    "print(\"====================Train====================\")\n",
    "print(train)"
   ]
  },
  {
   "cell_type": "code",
   "execution_count": 2,
   "metadata": {},
   "outputs": [],
   "source": [
    "# Query to fetch data from FAIR data stations\n",
    "inputData = {\n",
    "    \"query\": \"\"\"\n",
    "        prefix dbo: <http://um-cds/ontologies/databaseontology/>\n",
    "        prefix db: <http://localhost/rdf/ontology/>\n",
    "        prefix SCTID: <http://snomed.info/id/>\n",
    "        PREFIX owl: <http://www.w3.org/2002/07/owl#>\n",
    "        PREFIX rdf: <http://www.w3.org/1999/02/22-rdf-syntax-ns#>\n",
    "        \n",
    "        SELECT ?id ?lokalisatie ?diagnosedatum ?datum_van_chirurgische_therapie ?datum_van_neoadjuvante_therapie ?gecompliceerd_beloop\n",
    "        WHERE {\n",
    "            ?row dbo:has_column [\n",
    "                rdf:type SCTID:116154003;\n",
    "                dbo:has_value ?id;\n",
    "            ];\n",
    "            dbo:has_column [\n",
    "                rdf:type SCTID:371480007;\n",
    "                dbo:has_value ?lokalisatie;\n",
    "            ];\n",
    "            dbo:has_column [\n",
    "                rdf:type SCTID:432213005;\n",
    "                dbo:has_value ?diagnosedatum;\n",
    "            ];\n",
    "            dbo:has_column [\n",
    "                rdf:type SCTID:257556004;\n",
    "                dbo:has_value ?datum_van_chirurgische_therapie;\n",
    "            ];\n",
    "            dbo:has_column [\n",
    "                rdf:type SCTID:373847000;\n",
    "                dbo:has_value ?datum_van_neoadjuvante_therapie;\n",
    "            ];\n",
    "            dbo:has_column [\n",
    "                rdf:type SCTID:263718001;\n",
    "                dbo:has_value ?gecompliceerd_beloop;\n",
    "            ].\n",
    "        }\"\"\"\n",
    "    \n",
    "}"
   ]
  },
  {
   "cell_type": "code",
   "execution_count": 3,
   "metadata": {},
   "outputs": [
    {
     "name": "stdout",
     "output_type": "stream",
     "text": [
      "====================Task 1====================\n",
      "{'id': 140, 'creationTimestamp': '2020-07-20T13:12:04.612+0000', 'trainId': 64, 'calculationStatus': 'REQUESTED', 'result': '', 'stationId': 5, 'input': '{\"query\": \"\\\\n        prefix dbo: <http://um-cds/ontologies/databaseontology/>\\\\n        prefix db: <http://localhost/rdf/ontology/>\\\\n        prefix SCTID: <http://snomed.info/id/>\\\\n        PREFIX owl: <http://www.w3.org/2002/07/owl#>\\\\n        PREFIX rdf: <http://www.w3.org/1999/02/22-rdf-syntax-ns#>\\\\n        \\\\n        SELECT ?id ?lokalisatie ?diagnosedatum ?datum_van_chirurgische_therapie ?datum_van_neoadjuvante_therapie ?gecompliceerd_beloop\\\\n        WHERE {\\\\n            ?row dbo:has_column [\\\\n                rdf:type SCTID:116154003;\\\\n                dbo:has_value ?id;\\\\n            ];\\\\n            dbo:has_column [\\\\n                rdf:type SCTID:371480007;\\\\n                dbo:has_value ?lokalisatie;\\\\n            ];\\\\n            dbo:has_column [\\\\n                rdf:type SCTID:432213005;\\\\n                dbo:has_value ?diagnosedatum;\\\\n            ];\\\\n            dbo:has_column [\\\\n                rdf:type SCTID:257556004;\\\\n                dbo:has_value ?datum_van_chirurgische_therapie;\\\\n            ];\\\\n            dbo:has_column [\\\\n                rdf:type SCTID:373847000;\\\\n                dbo:has_value ?datum_van_neoadjuvante_therapie;\\\\n            ];\\\\n            dbo:has_column [\\\\n                rdf:type SCTID:263718001;\\\\n                dbo:has_value ?gecompliceerd_beloop;\\\\n            ].\\\\n        }\"}', 'master': False, 'iteration': 0, 'error': None, 'logLocation': None}\n",
      "====================Task 2====================\n",
      "{'id': 141, 'creationTimestamp': '2020-07-20T13:12:04.700+0000', 'trainId': 64, 'calculationStatus': 'REQUESTED', 'result': '', 'stationId': 7, 'input': '{\"query\": \"\\\\n        prefix dbo: <http://um-cds/ontologies/databaseontology/>\\\\n        prefix db: <http://localhost/rdf/ontology/>\\\\n        prefix SCTID: <http://snomed.info/id/>\\\\n        PREFIX owl: <http://www.w3.org/2002/07/owl#>\\\\n        PREFIX rdf: <http://www.w3.org/1999/02/22-rdf-syntax-ns#>\\\\n        \\\\n        SELECT ?id ?lokalisatie ?diagnosedatum ?datum_van_chirurgische_therapie ?datum_van_neoadjuvante_therapie ?gecompliceerd_beloop\\\\n        WHERE {\\\\n            ?row dbo:has_column [\\\\n                rdf:type SCTID:116154003;\\\\n                dbo:has_value ?id;\\\\n            ];\\\\n            dbo:has_column [\\\\n                rdf:type SCTID:371480007;\\\\n                dbo:has_value ?lokalisatie;\\\\n            ];\\\\n            dbo:has_column [\\\\n                rdf:type SCTID:432213005;\\\\n                dbo:has_value ?diagnosedatum;\\\\n            ];\\\\n            dbo:has_column [\\\\n                rdf:type SCTID:257556004;\\\\n                dbo:has_value ?datum_van_chirurgische_therapie;\\\\n            ];\\\\n            dbo:has_column [\\\\n                rdf:type SCTID:373847000;\\\\n                dbo:has_value ?datum_van_neoadjuvante_therapie;\\\\n            ];\\\\n            dbo:has_column [\\\\n                rdf:type SCTID:263718001;\\\\n                dbo:has_value ?gecompliceerd_beloop;\\\\n            ].\\\\n        }\"}', 'master': False, 'iteration': 0, 'error': None, 'logLocation': None}\n",
      "====================Task 3====================\n",
      "{'id': 142, 'creationTimestamp': '2020-07-20T13:12:04.780+0000', 'trainId': 64, 'calculationStatus': 'REQUESTED', 'result': '', 'stationId': 6, 'input': '{\"query\": \"\\\\n        prefix dbo: <http://um-cds/ontologies/databaseontology/>\\\\n        prefix db: <http://localhost/rdf/ontology/>\\\\n        prefix SCTID: <http://snomed.info/id/>\\\\n        PREFIX owl: <http://www.w3.org/2002/07/owl#>\\\\n        PREFIX rdf: <http://www.w3.org/1999/02/22-rdf-syntax-ns#>\\\\n        \\\\n        SELECT ?id ?lokalisatie ?diagnosedatum ?datum_van_chirurgische_therapie ?datum_van_neoadjuvante_therapie ?gecompliceerd_beloop\\\\n        WHERE {\\\\n            ?row dbo:has_column [\\\\n                rdf:type SCTID:116154003;\\\\n                dbo:has_value ?id;\\\\n            ];\\\\n            dbo:has_column [\\\\n                rdf:type SCTID:371480007;\\\\n                dbo:has_value ?lokalisatie;\\\\n            ];\\\\n            dbo:has_column [\\\\n                rdf:type SCTID:432213005;\\\\n                dbo:has_value ?diagnosedatum;\\\\n            ];\\\\n            dbo:has_column [\\\\n                rdf:type SCTID:257556004;\\\\n                dbo:has_value ?datum_van_chirurgische_therapie;\\\\n            ];\\\\n            dbo:has_column [\\\\n                rdf:type SCTID:373847000;\\\\n                dbo:has_value ?datum_van_neoadjuvante_therapie;\\\\n            ];\\\\n            dbo:has_column [\\\\n                rdf:type SCTID:263718001;\\\\n                dbo:has_value ?gecompliceerd_beloop;\\\\n            ].\\\\n        }\"}', 'master': False, 'iteration': 0, 'error': None, 'logLocation': None}\n"
     ]
    }
   ],
   "source": [
    "## Post Tasks\n",
    "\n",
    "task1 = railway.createTask(train, \"REQUESTED\", \"\", \"maastro\", 0, 0, False, json.dumps(inputData))\n",
    "print(\"====================Task 1====================\")\n",
    "print(task1)\n",
    "\n",
    "task2 = railway.createTask(train, \"REQUESTED\", \"\", \"MUMC\", 0, 0, False, json.dumps(inputData))\n",
    "print(\"====================Task 2====================\")\n",
    "print(task2)\n",
    "\n",
    "task3 = railway.createTask(train, \"REQUESTED\", \"\", \"CDS\", 0, 0, False, json.dumps(inputData))\n",
    "print(\"====================Task 3====================\")\n",
    "print(task3)"
   ]
  },
  {
   "cell_type": "code",
   "execution_count": 4,
   "metadata": {},
   "outputs": [
    {
     "name": "stdout",
     "output_type": "stream",
     "text": [
      "====================MasterResult====================\n",
      "{'id': 141, 'creationTimestamp': '2020-07-20T13:12:04.700+0000', 'trainId': 64, 'calculationStatus': 'COMPLETED', 'result': '{\"total_count_colon\": 4, \"total_population_colon\": 5, \"percentage_of_short_waitlist\": 0.8, \"count_rectum\": 2, \"total_population_rectum\": 4, \"complication_rate\": 0.5}', 'stationId': 7, 'input': '{\"query\": \"\\\\n        prefix dbo: <http://um-cds/ontologies/databaseontology/>\\\\n        prefix db: <http://localhost/rdf/ontology/>\\\\n        prefix SCTID: <http://snomed.info/id/>\\\\n        PREFIX owl: <http://www.w3.org/2002/07/owl#>\\\\n        PREFIX rdf: <http://www.w3.org/1999/02/22-rdf-syntax-ns#>\\\\n        \\\\n        SELECT ?id ?lokalisatie ?diagnosedatum ?datum_van_chirurgische_therapie ?datum_van_neoadjuvante_therapie ?gecompliceerd_beloop\\\\n        WHERE {\\\\n            ?row dbo:has_column [\\\\n                rdf:type SCTID:116154003;\\\\n                dbo:has_value ?id;\\\\n            ];\\\\n            dbo:has_column [\\\\n                rdf:type SCTID:371480007;\\\\n                dbo:has_value ?lokalisatie;\\\\n            ];\\\\n            dbo:has_column [\\\\n                rdf:type SCTID:432213005;\\\\n                dbo:has_value ?diagnosedatum;\\\\n            ];\\\\n            dbo:has_column [\\\\n                rdf:type SCTID:257556004;\\\\n                dbo:has_value ?datum_van_chirurgische_therapie;\\\\n            ];\\\\n            dbo:has_column [\\\\n                rdf:type SCTID:373847000;\\\\n                dbo:has_value ?datum_van_neoadjuvante_therapie;\\\\n            ];\\\\n            dbo:has_column [\\\\n                rdf:type SCTID:263718001;\\\\n                dbo:has_value ?gecompliceerd_beloop;\\\\n            ].\\\\n        }\"}', 'master': False, 'iteration': 0, 'error': None, 'logLocation': '/home/fairstation/station_dcra/railway/./9e0cf1bfe5210b0cebdb5870681fb61a9bc7c6b13ac3a52b50c04bdee2827cc1/train.log'}\n",
      "#####################################################\n",
      "====================MasterResult====================\n",
      "{'id': 142, 'creationTimestamp': '2020-07-20T13:12:04.780+0000', 'trainId': 64, 'calculationStatus': 'COMPLETED', 'result': '{\"total_count_colon\": 3, \"total_population_colon\": 5, \"percentage_of_short_waitlist\": 0.6, \"count_rectum\": 2, \"total_population_rectum\": 3, \"complication_rate\": 0.6666666666666666}', 'stationId': 6, 'input': '{\"query\": \"\\\\n        prefix dbo: <http://um-cds/ontologies/databaseontology/>\\\\n        prefix db: <http://localhost/rdf/ontology/>\\\\n        prefix SCTID: <http://snomed.info/id/>\\\\n        PREFIX owl: <http://www.w3.org/2002/07/owl#>\\\\n        PREFIX rdf: <http://www.w3.org/1999/02/22-rdf-syntax-ns#>\\\\n        \\\\n        SELECT ?id ?lokalisatie ?diagnosedatum ?datum_van_chirurgische_therapie ?datum_van_neoadjuvante_therapie ?gecompliceerd_beloop\\\\n        WHERE {\\\\n            ?row dbo:has_column [\\\\n                rdf:type SCTID:116154003;\\\\n                dbo:has_value ?id;\\\\n            ];\\\\n            dbo:has_column [\\\\n                rdf:type SCTID:371480007;\\\\n                dbo:has_value ?lokalisatie;\\\\n            ];\\\\n            dbo:has_column [\\\\n                rdf:type SCTID:432213005;\\\\n                dbo:has_value ?diagnosedatum;\\\\n            ];\\\\n            dbo:has_column [\\\\n                rdf:type SCTID:257556004;\\\\n                dbo:has_value ?datum_van_chirurgische_therapie;\\\\n            ];\\\\n            dbo:has_column [\\\\n                rdf:type SCTID:373847000;\\\\n                dbo:has_value ?datum_van_neoadjuvante_therapie;\\\\n            ];\\\\n            dbo:has_column [\\\\n                rdf:type SCTID:263718001;\\\\n                dbo:has_value ?gecompliceerd_beloop;\\\\n            ].\\\\n        }\"}', 'master': False, 'iteration': 0, 'error': None, 'logLocation': '/var/data/dcra_zin/station_cds/./25c78195648fa389918068cbeda4f271c5ecf6416f6b886e05bda16b0cad0fa2/train.log'}\n",
      "====================MasterResult====================\n",
      "{'id': 140, 'creationTimestamp': '2020-07-20T13:12:04.612+0000', 'trainId': 64, 'calculationStatus': 'COMPLETED', 'result': '{\"total_count_colon\": 856, \"total_population_colon\": 428, \"percentage_of_short_waitlist\": 2.0, \"count_rectum\": 0, \"total_population_rectum\": 2880, \"complication_rate\": 0.0}', 'stationId': 5, 'input': '{\"query\": \"\\\\n        prefix dbo: <http://um-cds/ontologies/databaseontology/>\\\\n        prefix db: <http://localhost/rdf/ontology/>\\\\n        prefix SCTID: <http://snomed.info/id/>\\\\n        PREFIX owl: <http://www.w3.org/2002/07/owl#>\\\\n        PREFIX rdf: <http://www.w3.org/1999/02/22-rdf-syntax-ns#>\\\\n        \\\\n        SELECT ?id ?lokalisatie ?diagnosedatum ?datum_van_chirurgische_therapie ?datum_van_neoadjuvante_therapie ?gecompliceerd_beloop\\\\n        WHERE {\\\\n            ?row dbo:has_column [\\\\n                rdf:type SCTID:116154003;\\\\n                dbo:has_value ?id;\\\\n            ];\\\\n            dbo:has_column [\\\\n                rdf:type SCTID:371480007;\\\\n                dbo:has_value ?lokalisatie;\\\\n            ];\\\\n            dbo:has_column [\\\\n                rdf:type SCTID:432213005;\\\\n                dbo:has_value ?diagnosedatum;\\\\n            ];\\\\n            dbo:has_column [\\\\n                rdf:type SCTID:257556004;\\\\n                dbo:has_value ?datum_van_chirurgische_therapie;\\\\n            ];\\\\n            dbo:has_column [\\\\n                rdf:type SCTID:373847000;\\\\n                dbo:has_value ?datum_van_neoadjuvante_therapie;\\\\n            ];\\\\n            dbo:has_column [\\\\n                rdf:type SCTID:263718001;\\\\n                dbo:has_value ?gecompliceerd_beloop;\\\\n            ].\\\\n        }\"}', 'master': False, 'iteration': 0, 'error': None, 'logLocation': '/var/data/dcra_zin/software/./225d423efd93fa51a49cab18dbf95f8a0b3abfa2024db47c7ddc59d3c61bd73d/train.log'}\n",
      "#####################################################\n"
     ]
    }
   ],
   "source": [
    "# Get Results \n",
    "\n",
    "taskResult2 = railway.getTaskResult(task2, waitCompleted=True)\n",
    "print(\"====================MasterResult====================\")\n",
    "print(taskResult2)\n",
    "print('#####################################################')\n",
    "\n",
    "taskResult3 = railway.getTaskResult(task3, waitCompleted=True)\n",
    "print(\"====================MasterResult====================\")\n",
    "print(taskResult3)\n",
    "\n",
    "taskResult1 = railway.getTaskResult(task1, waitCompleted=True)\n",
    "print(\"====================MasterResult====================\")\n",
    "print(taskResult1)\n",
    "print('#####################################################')\n",
    "\n",
    "\n",
    "result1 = taskResult1['result']\n",
    "res1 = json.loads(result1)\n",
    "\n",
    "\n",
    "result2 = taskResult2['result']\n",
    "res2 = json.loads(result2)\n",
    "\n",
    "result3 = taskResult3['result']\n",
    "res3 = json.loads(result3)"
   ]
  },
  {
   "cell_type": "code",
   "execution_count": 5,
   "metadata": {},
   "outputs": [
    {
     "name": "stdout",
     "output_type": "stream",
     "text": [
      "====================MasterResult====================\n",
      "{'id': 140, 'creationTimestamp': '2020-07-20T13:12:04.612+0000', 'trainId': 64, 'calculationStatus': 'COMPLETED', 'result': '{\"total_count_colon\": 856, \"total_population_colon\": 428, \"percentage_of_short_waitlist\": 2.0, \"count_rectum\": 0, \"total_population_rectum\": 2880, \"complication_rate\": 0.0}', 'stationId': 5, 'input': '{\"query\": \"\\\\n        prefix dbo: <http://um-cds/ontologies/databaseontology/>\\\\n        prefix db: <http://localhost/rdf/ontology/>\\\\n        prefix SCTID: <http://snomed.info/id/>\\\\n        PREFIX owl: <http://www.w3.org/2002/07/owl#>\\\\n        PREFIX rdf: <http://www.w3.org/1999/02/22-rdf-syntax-ns#>\\\\n        \\\\n        SELECT ?id ?lokalisatie ?diagnosedatum ?datum_van_chirurgische_therapie ?datum_van_neoadjuvante_therapie ?gecompliceerd_beloop\\\\n        WHERE {\\\\n            ?row dbo:has_column [\\\\n                rdf:type SCTID:116154003;\\\\n                dbo:has_value ?id;\\\\n            ];\\\\n            dbo:has_column [\\\\n                rdf:type SCTID:371480007;\\\\n                dbo:has_value ?lokalisatie;\\\\n            ];\\\\n            dbo:has_column [\\\\n                rdf:type SCTID:432213005;\\\\n                dbo:has_value ?diagnosedatum;\\\\n            ];\\\\n            dbo:has_column [\\\\n                rdf:type SCTID:257556004;\\\\n                dbo:has_value ?datum_van_chirurgische_therapie;\\\\n            ];\\\\n            dbo:has_column [\\\\n                rdf:type SCTID:373847000;\\\\n                dbo:has_value ?datum_van_neoadjuvante_therapie;\\\\n            ];\\\\n            dbo:has_column [\\\\n                rdf:type SCTID:263718001;\\\\n                dbo:has_value ?gecompliceerd_beloop;\\\\n            ].\\\\n        }\"}', 'master': False, 'iteration': 0, 'error': None, 'logLocation': '/var/data/dcra_zin/software/./225d423efd93fa51a49cab18dbf95f8a0b3abfa2024db47c7ddc59d3c61bd73d/train.log'}\n"
     ]
    }
   ],
   "source": [
    "taskResult1 = railway.getTaskResult(task1, waitCompleted=False)\n",
    "print(\"====================MasterResult====================\")\n",
    "print(taskResult1)"
   ]
  },
  {
   "cell_type": "code",
   "execution_count": 6,
   "metadata": {},
   "outputs": [
    {
     "data": {
      "text/plain": [
       "[<matplotlib.lines.Line2D at 0x26c107f4ec8>]"
      ]
     },
     "execution_count": 6,
     "metadata": {},
     "output_type": "execute_result"
    },
    {
     "data": {
      "image/png": "[encoded data removed]",
      "text/plain": [
       "<Figure size 432x288 with 1 Axes>"
      ]
     },
     "metadata": {
      "needs_background": "light"
     },
     "output_type": "display_data"
    },
    {
     "data": {
      "image/png": "[encoded data removed]",
      "text/plain": [
       "<Figure size 432x288 with 1 Axes>"
      ]
     },
     "metadata": {
      "needs_background": "light"
     },
     "output_type": "display_data"
    }
   ],
   "source": [
    "# Master Algorithm\n",
    "from matplotlib import pyplot\n",
    "\n",
    "\n",
    "percentage1 = res1['percentage_of_short_waitlist']\n",
    "percentage2 = res2['percentage_of_short_waitlist']\n",
    "percentage3 = res3['percentage_of_short_waitlist']\n",
    "\n",
    "mean = (percentage1+percentage2+percentage3)/3\n",
    "\n",
    "y1 = [percentage1, percentage2,percentage3]\n",
    "x1 = [res1['total_population_colon'],res2['total_population_colon'],res3['total_population_colon']]\n",
    "\n",
    "# indicator 2b\n",
    "\n",
    "fig1 = pyplot.figure()\n",
    "ax = fig1.add_subplot(111)\n",
    "ax.set_ylim(0,3)\n",
    "ax.set_xlim(-30,500)\n",
    "pyplot.xlabel('Number of patients')\n",
    "pyplot.ylabel('Percentage')\n",
    "pyplot.axhline(y=mean, color='g', linestyle='-')\n",
    "pyplot.plot(x1, y1, 'o', color='red')\n",
    "pyplot.savefig('Indicator2b.png')\n",
    "\n",
    "\n",
    "# indicator 8\n",
    "\n",
    "baseline_complication_rate = (res1['complication_rate']+res2['complication_rate']+res3['complication_rate'])/3\n",
    "\n",
    "node1_complication_rate = res1['complication_rate']/baseline_complication_rate\n",
    "node2_complication_rate = res2['complication_rate']/baseline_complication_rate\n",
    "node3_complication_rate = res3['complication_rate']/baseline_complication_rate\n",
    "\n",
    "node1_expected_complication = res1['total_population_rectum']*baseline_complication_rate\n",
    "node2_expected_complication =res2['total_population_rectum']*baseline_complication_rate\n",
    "node3_expected_complication = res3['total_population_rectum']*baseline_complication_rate\n",
    "\n",
    "y = [node1_complication_rate,node2_complication_rate,node3_complication_rate]\n",
    "x = [node1_expected_complication,node2_expected_complication,node2_expected_complication]\n",
    "\n",
    "fig2 = pyplot.figure()\n",
    "ax2 = fig2.add_subplot(111)\n",
    "ax2.set_ylim(-2,5)\n",
    "ax2.set_xlim(-30,1200)\n",
    "pyplot.xlabel('aantal verwacht events')\n",
    "pyplot.ylabel('geobserveer/verwacht')\n",
    "pyplot.axhline(y=1, color='b', linestyle='-')\n",
    "pyplot.plot(x, y, 'o', color='red')\n"
   ]
  },
  {
   "cell_type": "code",
   "execution_count": null,
   "metadata": {},
   "outputs": [],
   "source": []
  }
 ],
 "metadata": {
  "kernelspec": {
   "display_name": "Python 3",
   "language": "python",
   "name": "python3"
  },
  "language_info": {
   "codemirror_mode": {
    "name": "ipython",
    "version": 3
   },
   "file_extension": ".py",
   "mimetype": "text/x-python",
   "name": "python",
   "nbconvert_exporter": "python",
   "pygments_lexer": "ipython3",
   "version": "3.7.4"
  }
 },
 "nbformat": 4,
 "nbformat_minor": 4
}
