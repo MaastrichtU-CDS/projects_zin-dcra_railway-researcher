{
 "cells": [
  {
   "cell_type": "code",
   "execution_count": 6,
   "metadata": {},
   "outputs": [
    {
     "name": "stdout",
     "output_type": "stream",
     "text": [
      "Login Successfull\n"
     ]
    }
   ],
   "source": [
    "# User Login to the registry\n",
    "\n",
    "from app.railway_researcher import RailwayResearcher\n",
    "import json\n",
    "import time\n",
    "import html\n",
    "\n",
    "start_time= time.time()\n",
    "\n",
    "keycloakUrl = \"https://dcra-keycloak.railway.medicaldataworks.nl\"\n",
    "keycloakClient = \"ananya\"\n",
    "keycloakToken = \"c3b77319-0ee5-444a-8391-615c1d037ed9\"\n",
    "railwayUrl = \"https://dcra.railway.medicaldataworks.nl\"\n",
    "\n",
    "railway = RailwayResearcher(keycloakUrl, keycloakClient, keycloakToken, railwayUrl)\n",
    "\n",
    "print(\"Login Successfull\")"
   ]
  },
  {
   "cell_type": "code",
   "execution_count": 7,
   "metadata": {},
   "outputs": [
    {
     "name": "stdout",
     "output_type": "stream",
     "text": [
      "====================Train====================\n",
      "{\"id\":101,\"name\":\"Colo Rectal Quality Indicator\",\"dockerImageUrl\":\"registry.gitlab.com/ananyacn/zin_dcra-runner\",\"ownerId\":\"d57b0c40-e757-460f-a8f2-08531032e640\",\"calculationStatus\":\"REQUESTED\",\"currentIteration\":0,\"clientTaskCount\":3}\n"
     ]
    }
   ],
   "source": [
    "## Create train\n",
    "print(\"====================Train====================\")\n",
    "train = railway.createTrain(\"Colo Rectal Quality Indicator\", \"registry.gitlab.com/ananyacn/zin_dcra-runner\", \"03838bb4-8103-4a98-a9c3-d4848b13b3f6\", 3)"
   ]
  },
  {
   "cell_type": "code",
   "execution_count": 3,
   "metadata": {},
   "outputs": [],
   "source": [
    "# Query to fetch data from FAIR data stations\n",
    "inputData = {\n",
    "    \"query\": \"\"\"\n",
    "        prefix dbo: <http://um-cds/ontologies/databaseontology/>\n",
    "        prefix db: <http://localhost/rdf/ontology/>\n",
    "        prefix SCTID: <http://snomed.info/id/>\n",
    "        PREFIX owl: <http://www.w3.org/2002/07/owl#>\n",
    "        PREFIX rdf: <http://www.w3.org/1999/02/22-rdf-syntax-ns#>\n",
    "        \n",
    "        SELECT ?id ?lokalisatie ?diagnosedatum ?datum_van_chirurgische_therapie ?datum_van_neoadjuvante_therapie ?gecompliceerd_beloop\n",
    "        WHERE {\n",
    "            ?row dbo:has_column [\n",
    "                rdf:type SCTID:116154003;\n",
    "                dbo:has_value ?id;\n",
    "            ];\n",
    "            dbo:has_column [\n",
    "                rdf:type SCTID:371480007;\n",
    "                dbo:has_value ?lokalisatie;\n",
    "            ];\n",
    "            dbo:has_column [\n",
    "                rdf:type SCTID:432213005;\n",
    "                dbo:has_value ?diagnosedatum;\n",
    "            ];\n",
    "            dbo:has_column [\n",
    "                rdf:type SCTID:257556004;\n",
    "                dbo:has_value ?datum_van_chirurgische_therapie;\n",
    "            ];\n",
    "            dbo:has_column [\n",
    "                rdf:type SCTID:373847000;\n",
    "                dbo:has_value ?datum_van_neoadjuvante_therapie;\n",
    "            ];\n",
    "            dbo:has_column [\n",
    "                rdf:type SCTID:263718001;\n",
    "                dbo:has_value ?gecompliceerd_beloop;\n",
    "            ].\n",
    "        }\"\"\"\n",
    "    \n",
    "}"
   ]
  },
  {
   "cell_type": "code",
   "execution_count": 4,
   "metadata": {},
   "outputs": [
    {
     "name": "stdout",
     "output_type": "stream",
     "text": [
      "====================Task 1====================\n",
      "{'id': 215, 'creationTimestamp': '2020-10-23T12:23:35.221+0000', 'trainId': 100, 'calculationStatus': 'REQUESTED', 'result': '', 'stationId': 5, 'input': '{\"query\": \"\\\\n        prefix dbo: <http://um-cds/ontologies/databaseontology/>\\\\n        prefix db: <http://localhost/rdf/ontology/>\\\\n        prefix SCTID: <http://snomed.info/id/>\\\\n        PREFIX owl: <http://www.w3.org/2002/07/owl#>\\\\n        PREFIX rdf: <http://www.w3.org/1999/02/22-rdf-syntax-ns#>\\\\n        \\\\n        SELECT ?id ?lokalisatie ?diagnosedatum ?datum_van_chirurgische_therapie ?datum_van_neoadjuvante_therapie ?gecompliceerd_beloop\\\\n        WHERE {\\\\n            ?row dbo:has_column [\\\\n                rdf:type SCTID:116154003;\\\\n                dbo:has_value ?id;\\\\n            ];\\\\n            dbo:has_column [\\\\n                rdf:type SCTID:371480007;\\\\n                dbo:has_value ?lokalisatie;\\\\n            ];\\\\n            dbo:has_column [\\\\n                rdf:type SCTID:432213005;\\\\n                dbo:has_value ?diagnosedatum;\\\\n            ];\\\\n            dbo:has_column [\\\\n                rdf:type SCTID:257556004;\\\\n                dbo:has_value ?datum_van_chirurgische_therapie;\\\\n            ];\\\\n            dbo:has_column [\\\\n                rdf:type SCTID:373847000;\\\\n                dbo:has_value ?datum_van_neoadjuvante_therapie;\\\\n            ];\\\\n            dbo:has_column [\\\\n                rdf:type SCTID:263718001;\\\\n                dbo:has_value ?gecompliceerd_beloop;\\\\n            ].\\\\n        }\"}', 'master': False, 'iteration': 0, 'error': None, 'logLocation': None}\n",
      "\n",
      " ====================Task 3====================\n",
      "{'id': 216, 'creationTimestamp': '2020-10-23T12:23:35.430+0000', 'trainId': 100, 'calculationStatus': 'REQUESTED', 'result': '', 'stationId': 6, 'input': '{\"query\": \"\\\\n        prefix dbo: <http://um-cds/ontologies/databaseontology/>\\\\n        prefix db: <http://localhost/rdf/ontology/>\\\\n        prefix SCTID: <http://snomed.info/id/>\\\\n        PREFIX owl: <http://www.w3.org/2002/07/owl#>\\\\n        PREFIX rdf: <http://www.w3.org/1999/02/22-rdf-syntax-ns#>\\\\n        \\\\n        SELECT ?id ?lokalisatie ?diagnosedatum ?datum_van_chirurgische_therapie ?datum_van_neoadjuvante_therapie ?gecompliceerd_beloop\\\\n        WHERE {\\\\n            ?row dbo:has_column [\\\\n                rdf:type SCTID:116154003;\\\\n                dbo:has_value ?id;\\\\n            ];\\\\n            dbo:has_column [\\\\n                rdf:type SCTID:371480007;\\\\n                dbo:has_value ?lokalisatie;\\\\n            ];\\\\n            dbo:has_column [\\\\n                rdf:type SCTID:432213005;\\\\n                dbo:has_value ?diagnosedatum;\\\\n            ];\\\\n            dbo:has_column [\\\\n                rdf:type SCTID:257556004;\\\\n                dbo:has_value ?datum_van_chirurgische_therapie;\\\\n            ];\\\\n            dbo:has_column [\\\\n                rdf:type SCTID:373847000;\\\\n                dbo:has_value ?datum_van_neoadjuvante_therapie;\\\\n            ];\\\\n            dbo:has_column [\\\\n                rdf:type SCTID:263718001;\\\\n                dbo:has_value ?gecompliceerd_beloop;\\\\n            ].\\\\n        }\"}', 'master': False, 'iteration': 0, 'error': None, 'logLocation': None}\n"
     ]
    }
   ],
   "source": [
    "## Post Tasks\n",
    "time_task = time.time()\n",
    "\n",
    "task1 = railway.createTask(train, \"REQUESTED\", \"\", \"maastro\", 0, 0, False, json.dumps(inputData))\n",
    "print(\"====================Task 1====================\")\n",
    "print(task1)\n",
    "\n",
    "\n",
    "task2 = railway.createTask(train, \"REQUESTED\", \"\", \"CDS\", 0, 0, False, json.dumps(inputData))\n",
    "print(\"\\n ====================Task 3====================\")\n",
    "print(task2)"
   ]
  },
  {
   "cell_type": "code",
   "execution_count": 5,
   "metadata": {},
   "outputs": [
    {
     "name": "stdout",
     "output_type": "stream",
     "text": [
      "====================MasterResult====================\n",
      "{'id': 216, 'creationTimestamp': '2020-10-23T12:23:35.430+0000', 'trainId': 100, 'calculationStatus': 'COMPLETED', 'result': '{\"total_count_colon\": 7, \"total_population_colon\": 10, \"percentage_of_short_waitlist\": 0.7, \"count_rectum\": 4, \"total_population_rectum\": 7, \"complication_rate\": 0.5714285714285714}', 'stationId': 6, 'input': '{\"query\": \"\\\\n        prefix dbo: <http://um-cds/ontologies/databaseontology/>\\\\n        prefix db: <http://localhost/rdf/ontology/>\\\\n        prefix SCTID: <http://snomed.info/id/>\\\\n        PREFIX owl: <http://www.w3.org/2002/07/owl#>\\\\n        PREFIX rdf: <http://www.w3.org/1999/02/22-rdf-syntax-ns#>\\\\n        \\\\n        SELECT ?id ?lokalisatie ?diagnosedatum ?datum_van_chirurgische_therapie ?datum_van_neoadjuvante_therapie ?gecompliceerd_beloop\\\\n        WHERE {\\\\n            ?row dbo:has_column [\\\\n                rdf:type SCTID:116154003;\\\\n                dbo:has_value ?id;\\\\n            ];\\\\n            dbo:has_column [\\\\n                rdf:type SCTID:371480007;\\\\n                dbo:has_value ?lokalisatie;\\\\n            ];\\\\n            dbo:has_column [\\\\n                rdf:type SCTID:432213005;\\\\n                dbo:has_value ?diagnosedatum;\\\\n            ];\\\\n            dbo:has_column [\\\\n                rdf:type SCTID:257556004;\\\\n                dbo:has_value ?datum_van_chirurgische_therapie;\\\\n            ];\\\\n            dbo:has_column [\\\\n                rdf:type SCTID:373847000;\\\\n                dbo:has_value ?datum_van_neoadjuvante_therapie;\\\\n            ];\\\\n            dbo:has_column [\\\\n                rdf:type SCTID:263718001;\\\\n                dbo:has_value ?gecompliceerd_beloop;\\\\n            ].\\\\n        }\"}', 'master': False, 'iteration': 0, 'error': None, 'logLocation': '/var/data/dcra_zin/station_cds/./60b8d4eda8ca3c58ca104b7bdf9d2686cca0d5da4ea90145989d02ec8c00aa95/train.log'}\n",
      "#####################################################\n"
     ]
    },
    {
     "ename": "JSONDecodeError",
     "evalue": "Expecting value: line 1 column 1 (char 0)",
     "output_type": "error",
     "traceback": [
      "\u001b[1;31m---------------------------------------------------------------------------\u001b[0m",
      "\u001b[1;31mJSONDecodeError\u001b[0m                           Traceback (most recent call last)",
      "\u001b[1;32m<ipython-input-5-dc0f3e9c196e>\u001b[0m in \u001b[0;36m<module>\u001b[1;34m\u001b[0m\n\u001b[0;32m      7\u001b[0m \u001b[0mtime_center2\u001b[0m \u001b[1;33m=\u001b[0m \u001b[0mtime\u001b[0m\u001b[1;33m.\u001b[0m\u001b[0mtime\u001b[0m\u001b[1;33m(\u001b[0m\u001b[1;33m)\u001b[0m \u001b[1;33m-\u001b[0m \u001b[0mtime_task\u001b[0m\u001b[1;33m\u001b[0m\u001b[1;33m\u001b[0m\u001b[0m\n\u001b[0;32m      8\u001b[0m \u001b[1;33m\u001b[0m\u001b[0m\n\u001b[1;32m----> 9\u001b[1;33m \u001b[0mtaskResult1\u001b[0m \u001b[1;33m=\u001b[0m \u001b[0mrailway\u001b[0m\u001b[1;33m.\u001b[0m\u001b[0mgetTaskResult\u001b[0m\u001b[1;33m(\u001b[0m\u001b[0mtask1\u001b[0m\u001b[1;33m,\u001b[0m \u001b[0mwaitCompleted\u001b[0m\u001b[1;33m=\u001b[0m\u001b[1;32mTrue\u001b[0m\u001b[1;33m)\u001b[0m\u001b[1;33m\u001b[0m\u001b[1;33m\u001b[0m\u001b[0m\n\u001b[0m\u001b[0;32m     10\u001b[0m \u001b[0mprint\u001b[0m\u001b[1;33m(\u001b[0m\u001b[1;34m\"====================MasterResult====================\"\u001b[0m\u001b[1;33m)\u001b[0m\u001b[1;33m\u001b[0m\u001b[1;33m\u001b[0m\u001b[0m\n\u001b[0;32m     11\u001b[0m \u001b[0mprint\u001b[0m\u001b[1;33m(\u001b[0m\u001b[0mtaskResult1\u001b[0m\u001b[1;33m)\u001b[0m\u001b[1;33m\u001b[0m\u001b[1;33m\u001b[0m\u001b[0m\n",
      "\u001b[1;32m~\\OneDrive - Maastro - Clinic\\Projects\\DCRA ZIN\\V2\\ZIN Demo Monday 28th Sept\\railway-researcher\\app\\railway_researcher.py\u001b[0m in \u001b[0;36mgetTaskResult\u001b[1;34m(self, taskStruct, waitCompleted)\u001b[0m\n\u001b[0;32m     89\u001b[0m             \u001b[1;32mwhile\u001b[0m \u001b[1;33m(\u001b[0m\u001b[0mresponseJson\u001b[0m\u001b[1;33m[\u001b[0m\u001b[1;34m\"calculationStatus\"\u001b[0m\u001b[1;33m]\u001b[0m \u001b[1;32min\u001b[0m \u001b[1;33m[\u001b[0m\u001b[1;34m\"REQUESTED\"\u001b[0m\u001b[1;33m,\u001b[0m \u001b[1;34m\"PROCESSING\"\u001b[0m\u001b[1;33m]\u001b[0m\u001b[1;33m)\u001b[0m\u001b[1;33m:\u001b[0m\u001b[1;33m\u001b[0m\u001b[1;33m\u001b[0m\u001b[0m\n\u001b[0;32m     90\u001b[0m                 \u001b[0mtime\u001b[0m\u001b[1;33m.\u001b[0m\u001b[0msleep\u001b[0m\u001b[1;33m(\u001b[0m\u001b[1;36m5\u001b[0m\u001b[1;33m)\u001b[0m\u001b[1;33m\u001b[0m\u001b[1;33m\u001b[0m\u001b[0m\n\u001b[1;32m---> 91\u001b[1;33m                 \u001b[0mresponseJson\u001b[0m \u001b[1;33m=\u001b[0m \u001b[0mrequests\u001b[0m\u001b[1;33m.\u001b[0m\u001b[0mget\u001b[0m\u001b[1;33m(\u001b[0m\u001b[0murl\u001b[0m\u001b[1;33m)\u001b[0m\u001b[1;33m.\u001b[0m\u001b[0mjson\u001b[0m\u001b[1;33m(\u001b[0m\u001b[1;33m)\u001b[0m\u001b[1;33m\u001b[0m\u001b[1;33m\u001b[0m\u001b[0m\n\u001b[0m\u001b[0;32m     92\u001b[0m \u001b[1;33m\u001b[0m\u001b[0m\n\u001b[0;32m     93\u001b[0m         \u001b[1;32mreturn\u001b[0m \u001b[0mresponseJson\u001b[0m\u001b[1;33m\u001b[0m\u001b[1;33m\u001b[0m\u001b[0m\n",
      "\u001b[1;32mC:\\ProgramData\\Anaconda3\\lib\\site-packages\\requests\\models.py\u001b[0m in \u001b[0;36mjson\u001b[1;34m(self, **kwargs)\u001b[0m\n\u001b[0;32m    896\u001b[0m                     \u001b[1;31m# used.\u001b[0m\u001b[1;33m\u001b[0m\u001b[1;33m\u001b[0m\u001b[1;33m\u001b[0m\u001b[0m\n\u001b[0;32m    897\u001b[0m                     \u001b[1;32mpass\u001b[0m\u001b[1;33m\u001b[0m\u001b[1;33m\u001b[0m\u001b[0m\n\u001b[1;32m--> 898\u001b[1;33m         \u001b[1;32mreturn\u001b[0m \u001b[0mcomplexjson\u001b[0m\u001b[1;33m.\u001b[0m\u001b[0mloads\u001b[0m\u001b[1;33m(\u001b[0m\u001b[0mself\u001b[0m\u001b[1;33m.\u001b[0m\u001b[0mtext\u001b[0m\u001b[1;33m,\u001b[0m \u001b[1;33m**\u001b[0m\u001b[0mkwargs\u001b[0m\u001b[1;33m)\u001b[0m\u001b[1;33m\u001b[0m\u001b[1;33m\u001b[0m\u001b[0m\n\u001b[0m\u001b[0;32m    899\u001b[0m \u001b[1;33m\u001b[0m\u001b[0m\n\u001b[0;32m    900\u001b[0m     \u001b[1;33m@\u001b[0m\u001b[0mproperty\u001b[0m\u001b[1;33m\u001b[0m\u001b[1;33m\u001b[0m\u001b[0m\n",
      "\u001b[1;32mC:\\ProgramData\\Anaconda3\\lib\\json\\__init__.py\u001b[0m in \u001b[0;36mloads\u001b[1;34m(s, encoding, cls, object_hook, parse_float, parse_int, parse_constant, object_pairs_hook, **kw)\u001b[0m\n\u001b[0;32m    346\u001b[0m             \u001b[0mparse_int\u001b[0m \u001b[1;32mis\u001b[0m \u001b[1;32mNone\u001b[0m \u001b[1;32mand\u001b[0m \u001b[0mparse_float\u001b[0m \u001b[1;32mis\u001b[0m \u001b[1;32mNone\u001b[0m \u001b[1;32mand\u001b[0m\u001b[1;33m\u001b[0m\u001b[1;33m\u001b[0m\u001b[0m\n\u001b[0;32m    347\u001b[0m             parse_constant is None and object_pairs_hook is None and not kw):\n\u001b[1;32m--> 348\u001b[1;33m         \u001b[1;32mreturn\u001b[0m \u001b[0m_default_decoder\u001b[0m\u001b[1;33m.\u001b[0m\u001b[0mdecode\u001b[0m\u001b[1;33m(\u001b[0m\u001b[0ms\u001b[0m\u001b[1;33m)\u001b[0m\u001b[1;33m\u001b[0m\u001b[1;33m\u001b[0m\u001b[0m\n\u001b[0m\u001b[0;32m    349\u001b[0m     \u001b[1;32mif\u001b[0m \u001b[0mcls\u001b[0m \u001b[1;32mis\u001b[0m \u001b[1;32mNone\u001b[0m\u001b[1;33m:\u001b[0m\u001b[1;33m\u001b[0m\u001b[1;33m\u001b[0m\u001b[0m\n\u001b[0;32m    350\u001b[0m         \u001b[0mcls\u001b[0m \u001b[1;33m=\u001b[0m \u001b[0mJSONDecoder\u001b[0m\u001b[1;33m\u001b[0m\u001b[1;33m\u001b[0m\u001b[0m\n",
      "\u001b[1;32mC:\\ProgramData\\Anaconda3\\lib\\json\\decoder.py\u001b[0m in \u001b[0;36mdecode\u001b[1;34m(self, s, _w)\u001b[0m\n\u001b[0;32m    335\u001b[0m \u001b[1;33m\u001b[0m\u001b[0m\n\u001b[0;32m    336\u001b[0m         \"\"\"\n\u001b[1;32m--> 337\u001b[1;33m         \u001b[0mobj\u001b[0m\u001b[1;33m,\u001b[0m \u001b[0mend\u001b[0m \u001b[1;33m=\u001b[0m \u001b[0mself\u001b[0m\u001b[1;33m.\u001b[0m\u001b[0mraw_decode\u001b[0m\u001b[1;33m(\u001b[0m\u001b[0ms\u001b[0m\u001b[1;33m,\u001b[0m \u001b[0midx\u001b[0m\u001b[1;33m=\u001b[0m\u001b[0m_w\u001b[0m\u001b[1;33m(\u001b[0m\u001b[0ms\u001b[0m\u001b[1;33m,\u001b[0m \u001b[1;36m0\u001b[0m\u001b[1;33m)\u001b[0m\u001b[1;33m.\u001b[0m\u001b[0mend\u001b[0m\u001b[1;33m(\u001b[0m\u001b[1;33m)\u001b[0m\u001b[1;33m)\u001b[0m\u001b[1;33m\u001b[0m\u001b[1;33m\u001b[0m\u001b[0m\n\u001b[0m\u001b[0;32m    338\u001b[0m         \u001b[0mend\u001b[0m \u001b[1;33m=\u001b[0m \u001b[0m_w\u001b[0m\u001b[1;33m(\u001b[0m\u001b[0ms\u001b[0m\u001b[1;33m,\u001b[0m \u001b[0mend\u001b[0m\u001b[1;33m)\u001b[0m\u001b[1;33m.\u001b[0m\u001b[0mend\u001b[0m\u001b[1;33m(\u001b[0m\u001b[1;33m)\u001b[0m\u001b[1;33m\u001b[0m\u001b[1;33m\u001b[0m\u001b[0m\n\u001b[0;32m    339\u001b[0m         \u001b[1;32mif\u001b[0m \u001b[0mend\u001b[0m \u001b[1;33m!=\u001b[0m \u001b[0mlen\u001b[0m\u001b[1;33m(\u001b[0m\u001b[0ms\u001b[0m\u001b[1;33m)\u001b[0m\u001b[1;33m:\u001b[0m\u001b[1;33m\u001b[0m\u001b[1;33m\u001b[0m\u001b[0m\n",
      "\u001b[1;32mC:\\ProgramData\\Anaconda3\\lib\\json\\decoder.py\u001b[0m in \u001b[0;36mraw_decode\u001b[1;34m(self, s, idx)\u001b[0m\n\u001b[0;32m    353\u001b[0m             \u001b[0mobj\u001b[0m\u001b[1;33m,\u001b[0m \u001b[0mend\u001b[0m \u001b[1;33m=\u001b[0m \u001b[0mself\u001b[0m\u001b[1;33m.\u001b[0m\u001b[0mscan_once\u001b[0m\u001b[1;33m(\u001b[0m\u001b[0ms\u001b[0m\u001b[1;33m,\u001b[0m \u001b[0midx\u001b[0m\u001b[1;33m)\u001b[0m\u001b[1;33m\u001b[0m\u001b[1;33m\u001b[0m\u001b[0m\n\u001b[0;32m    354\u001b[0m         \u001b[1;32mexcept\u001b[0m \u001b[0mStopIteration\u001b[0m \u001b[1;32mas\u001b[0m \u001b[0merr\u001b[0m\u001b[1;33m:\u001b[0m\u001b[1;33m\u001b[0m\u001b[1;33m\u001b[0m\u001b[0m\n\u001b[1;32m--> 355\u001b[1;33m             \u001b[1;32mraise\u001b[0m \u001b[0mJSONDecodeError\u001b[0m\u001b[1;33m(\u001b[0m\u001b[1;34m\"Expecting value\"\u001b[0m\u001b[1;33m,\u001b[0m \u001b[0ms\u001b[0m\u001b[1;33m,\u001b[0m \u001b[0merr\u001b[0m\u001b[1;33m.\u001b[0m\u001b[0mvalue\u001b[0m\u001b[1;33m)\u001b[0m \u001b[1;32mfrom\u001b[0m \u001b[1;32mNone\u001b[0m\u001b[1;33m\u001b[0m\u001b[1;33m\u001b[0m\u001b[0m\n\u001b[0m\u001b[0;32m    356\u001b[0m         \u001b[1;32mreturn\u001b[0m \u001b[0mobj\u001b[0m\u001b[1;33m,\u001b[0m \u001b[0mend\u001b[0m\u001b[1;33m\u001b[0m\u001b[1;33m\u001b[0m\u001b[0m\n",
      "\u001b[1;31mJSONDecodeError\u001b[0m: Expecting value: line 1 column 1 (char 0)"
     ]
    }
   ],
   "source": [
    "# Get Results \n",
    "\n",
    "taskResult2 = railway.getTaskResult(task2, waitCompleted=True)\n",
    "print(\"====================MasterResult====================\")\n",
    "print(taskResult2)\n",
    "print('#####################################################')\n",
    "time_center2 = time.time() - time_task\n",
    "\n",
    "taskResult1 = railway.getTaskResult(task1, waitCompleted=True)\n",
    "print(\"====================MasterResult====================\")\n",
    "print(taskResult1)\n",
    "print('#####################################################')\n",
    "\n",
    "time_center1 = time.time() - time_task\n",
    "time_to_task = time.time() - time_task"
   ]
  },
  {
   "cell_type": "code",
   "execution_count": null,
   "metadata": {},
   "outputs": [],
   "source": [
    "# Master Algorithm\n",
    "from matplotlib import pyplot\n",
    "\n",
    "#Serialize Results\n",
    "result2 = taskResult2['result']\n",
    "res2 = json.loads(result2)\n",
    "\n",
    "result1 = taskResult1['result']\n",
    "res1 = json.loads(result1)\n",
    "\n",
    "\n",
    "# indicator 2b\n",
    "percentage1 = res1['percentage_of_short_waitlist']\n",
    "percentage2 = res2['percentage_of_short_waitlist']\n",
    "mean = (percentage1+percentage2)/2\n",
    "\n",
    "y1 = [percentage1,percentage2]\n",
    "x1 = [res1['total_population_colon'],res2['total_population_colon']]\n",
    "\n",
    "\n",
    "# indicator 8\n",
    "baseline_complication_rate = (res1['complication_rate']+res2['complication_rate'])/2\n",
    "\n",
    "node1_complication_rate = res1['complication_rate']/baseline_complication_rate\n",
    "node2_complication_rate = res2['complication_rate']/baseline_complication_rate\n",
    "\n",
    "node1_expected_complication = res1['total_population_rectum']*baseline_complication_rate\n",
    "node2_expected_complication =res2['total_population_rectum']*baseline_complication_rate\n",
    "\n",
    "y = [node1_complication_rate,node2_complication_rate]\n",
    "x = [node1_expected_complication,node2_expected_complication]"
   ]
  },
  {
   "cell_type": "code",
   "execution_count": null,
   "metadata": {},
   "outputs": [],
   "source": [
    "fig1 = pyplot.figure()\n",
    "ax = fig1.add_subplot(111)\n",
    "ax.set_ylim(0,3)\n",
    "ax.set_xlim(-30,500)\n",
    "pyplot.xlabel('Number of patients')\n",
    "pyplot.ylabel('Percentage')\n",
    "pyplot.axhline(y=mean, color='g', linestyle='-')\n",
    "pyplot.plot(x1, y1, 'o', color='red')\n",
    "pyplot.savefig('Indicator2b.png')"
   ]
  },
  {
   "cell_type": "code",
   "execution_count": null,
   "metadata": {},
   "outputs": [],
   "source": [
    "\n",
    "fig2 = pyplot.figure()\n",
    "ax2 = fig2.add_subplot(111)\n",
    "ax2.set_ylim(0.8,1.5)\n",
    "ax2.set_xlim(-100,1800)\n",
    "pyplot.xlabel('aantal verwacht events')\n",
    "pyplot.ylabel('geobserveer/verwacht')\n",
    "pyplot.axhline(y=1, color='b', linestyle='-')\n",
    "pyplot.plot(x, y, 'o', color='red')\n",
    "\n",
    "end_time = time.time()"
   ]
  },
  {
   "cell_type": "code",
   "execution_count": null,
   "metadata": {},
   "outputs": [],
   "source": [
    "total_elapsed_time = end_time - start_time\n",
    "\n",
    "print(\"Total time                --------  %d seconds\" % int(round(total_elapsed_time)))\n",
    "print(\"Time for distributed task --------  %d seconds\" % int(round(time_to_task)))\n",
    "print(\"                 Center 1 --------  %d seconds\" % int(round(time_center1)))\n",
    "print(\"                 Center 2 --------  %d seconds\" % int(round(time_center2)))"
   ]
  },
  {
   "cell_type": "code",
   "execution_count": null,
   "metadata": {},
   "outputs": [],
   "source": []
  }
 ],
 "metadata": {
  "kernelspec": {
   "display_name": "Python 3",
   "language": "python",
   "name": "python3"
  },
  "language_info": {
   "codemirror_mode": {
    "name": "ipython",
    "version": 3
   },
   "file_extension": ".py",
   "mimetype": "text/x-python",
   "name": "python",
   "nbconvert_exporter": "python",
   "pygments_lexer": "ipython3",
   "version": "3.7.4"
  }
 },
 "nbformat": 4,
 "nbformat_minor": 4
}
